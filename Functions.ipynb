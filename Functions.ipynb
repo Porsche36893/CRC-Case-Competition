{
 "cells": [
  {
   "cell_type": "markdown",
   "metadata": {},
   "source": [
    "### Date extractor"
   ]
  },
  {
   "cell_type": "code",
   "execution_count": 3,
   "metadata": {},
   "outputs": [],
   "source": [
    "def extract_date_and_duration(df, column_name=\"created_at\"):\n",
    "    \"\"\"\n",
    "    Extracts the date (first 10 characters) from a given datetime column \n",
    "    and calculates the duration (in days) from that date until today.\n",
    "\n",
    "    Parameters:\n",
    "    df (pd.DataFrame): The input DataFrame.\n",
    "    column_name (str): The name of the column containing datetime strings.\n",
    "\n",
    "    Returns:\n",
    "    pd.DataFrame: The updated DataFrame with 'date_only' and 'days_since' columns.\n",
    "    \"\"\"\n",
    "    df = df.copy()  # Avoid modifying the original DataFrame\n",
    "    df[\"date_only\"] = df[column_name].str[:10]  # Extract date part\n",
    "    df[\"date_only\"] = pd.to_datetime(df[\"date_only\"])  # Convert to datetime format\n",
    "\n",
    "    today = pd.to_datetime(datetime.today().date())  # Get today's date\n",
    "    df[\"days_since\"] = (today - df[\"date_only\"]).dt.days  # Calculate duration\n",
    "\n",
    "    return df"
   ]
  }
 ],
 "metadata": {
  "kernelspec": {
   "display_name": "Python 3",
   "language": "python",
   "name": "python3"
  },
  "language_info": {
   "codemirror_mode": {
    "name": "ipython",
    "version": 3
   },
   "file_extension": ".py",
   "mimetype": "text/x-python",
   "name": "python",
   "nbconvert_exporter": "python",
   "pygments_lexer": "ipython3",
   "version": "3.11.9"
  }
 },
 "nbformat": 4,
 "nbformat_minor": 2
}
